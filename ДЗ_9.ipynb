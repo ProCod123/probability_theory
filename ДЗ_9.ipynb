{
  "cells": [
    {
      "cell_type": "markdown",
      "metadata": {
        "pycharm": {
          "name": "#%% md\n"
        },
        "id": "XYaX6SUvcSSm"
      },
      "source": [
        "## Задание 1\n",
        "Даны значения величины заработной платы заемщиков банка (zp) и значения их поведенческого кредитного скоринга (ks):\n",
        "zp = [35, 45, 190, 200, 40, 70, 54, 150, 120, 110],\n",
        "ks = [401, 574, 874, 919, 459, 739, 653, 902, 746, 832].\n",
        "Используя математические операции, посчитать коэффициенты линейной регрессии,\n",
        "приняв за X заработную плату (то есть, zp - признак), а за y - значения скорингового балла (то есть, ks - целевая переменная).\n",
        "Произвести расчет как с использованием intercept, так и без."
      ]
    },
    {
      "cell_type": "code",
      "execution_count": 10,
      "metadata": {
        "pycharm": {
          "name": "#%%\n"
        },
        "id": "P3XWN1o9cSSq"
      },
      "outputs": [],
      "source": [
        "import numpy as np\n",
        "\n",
        "\n",
        "zp = np.array([35, 45, 190, 200, 40, 70, 54, 150, 120, 110])\n",
        "ks = np.array([401, 574, 874, 919, 459, 739, 653, 902, 746, 832])"
      ]
    },
    {
      "cell_type": "markdown",
      "metadata": {
        "pycharm": {
          "name": "#%% md\n"
        },
        "id": "7EXqPrdtcSSs"
      },
      "source": [
        "Коэффициент линейной регрессии с использованием интерсепта:\n",
        "\n",
        "\n",
        "\n",
        "\n",
        "\n",
        "\n"
      ]
    },
    {
      "cell_type": "code",
      "execution_count": 14,
      "metadata": {
        "pycharm": {
          "name": "#%%\n"
        },
        "colab": {
          "base_uri": "https://localhost:8080/"
        },
        "id": "6K0S7YQ-cSSt",
        "outputId": "fe23bb47-8b2b-4523-9a17-e739379dacd6"
      },
      "outputs": [
        {
          "output_type": "execute_result",
          "data": {
            "text/plain": [
              "444.1773573243596"
            ]
          },
          "metadata": {},
          "execution_count": 14
        }
      ],
      "source": [
        "b = (np.mean(zp*ks) - np.mean(zp)*np.mean(ks)) / (np.mean(zp**2) - np.mean(zp)**2)\n",
        "a = np.mean(ks) - b*np.mean(zp)\n",
        "a"
      ]
    },
    {
      "cell_type": "code",
      "execution_count": 12,
      "metadata": {
        "pycharm": {
          "name": "#%%\n"
        },
        "id": "qTW2k6aXcSSv"
      },
      "outputs": [],
      "source": []
    },
    {
      "cell_type": "markdown",
      "metadata": {
        "pycharm": {
          "name": "#%% md\n"
        },
        "id": "lLE_hk-4cSSz"
      },
      "source": [
        "Проведем рассчет без использования интерсепта:"
      ]
    },
    {
      "cell_type": "code",
      "source": [
        "b2 = np.sum((zp - np.mean(zp)) * (ks - np.mean(ks))) / np.sum((zp - np.mean(zp))**2)\n",
        "a2 = np.mean(ks) - b*np.mean(zp)\n",
        "a2\n"
      ],
      "metadata": {
        "colab": {
          "base_uri": "https://localhost:8080/"
        },
        "id": "CXqbdthH7haH",
        "outputId": "474670e8-a1af-4eb3-e783-dd2ea027d324"
      },
      "execution_count": 17,
      "outputs": [
        {
          "output_type": "execute_result",
          "data": {
            "text/plain": [
              "444.17735732435955"
            ]
          },
          "metadata": {},
          "execution_count": 17
        }
      ]
    },
    {
      "cell_type": "markdown",
      "metadata": {
        "pycharm": {
          "name": "#%% md\n"
        },
        "id": "TL-1kB9lcSS3"
      },
      "source": [
        "## Задание #2\n",
        "Посчитать коэффициент линейной регрессии при заработной плате (zp), используя градиентный спуск (без intercept)."
      ]
    },
    {
      "cell_type": "code",
      "execution_count": 9,
      "metadata": {
        "pycharm": {
          "name": "#%%\n"
        },
        "colab": {
          "base_uri": "https://localhost:8080/"
        },
        "id": "MufgZsZCcSS3",
        "outputId": "f04a26bc-2cb0-41cc-e918-ee1f9e5fdd0e"
      },
      "outputs": [
        {
          "output_type": "execute_result",
          "data": {
            "text/plain": [
              "1e-06"
            ]
          },
          "metadata": {},
          "execution_count": 9
        }
      ],
      "source": [
        "alpha = 1e-6\n",
        "alpha"
      ]
    },
    {
      "cell_type": "code",
      "execution_count": 8,
      "outputs": [
        {
          "output_type": "stream",
          "name": "stdout",
          "text": [
            "Iteration: 0, B1=0.25952808, mse=493237.7212546963\n",
            "Iteration: 500, B1=5.889815595583751, mse=56516.858416040064\n",
            "Iteration: 1000, B1=5.8898204201285544, mse=56516.85841571941\n",
            "Iteration: 1500, B1=5.889820420132673, mse=56516.85841571943\n",
            "Iteration: 2000, B1=5.889820420132673, mse=56516.85841571943\n",
            "Iteration: 2500, B1=5.889820420132673, mse=56516.85841571943\n"
          ]
        }
      ],
      "source": [
        "n = 10\n",
        "B1 = 0.1\n",
        "for i in range(3000):\n",
        "    B1 -= alpha*(2/n)*np.sum((B1*x-y)*x)\n",
        "    if i%500 == 0:\n",
        "        print('Iteration: {i}, B1={B1}, mse={mse}'.format(i=i, B1=B1, mse=np.mean((B1*x-y)**2)))"
      ],
      "metadata": {
        "pycharm": {
          "name": "#%%\n"
        },
        "colab": {
          "base_uri": "https://localhost:8080/"
        },
        "id": "YfjtNuKwcSS4",
        "outputId": "e8f2c42c-5ad3-4204-e0ce-f004031f258b"
      }
    },
    {
      "cell_type": "markdown",
      "metadata": {
        "pycharm": {
          "name": "#%% md\n"
        },
        "id": "nTSovpdBcSS5"
      },
      "source": [
        "\n",
        "## Задание 3\n",
        "Произвести вычисления как в пункте 2, но с вычислением intercept.\n",
        "Учесть, что изменение коэффициентов должно производиться на каждом шаге одновременно\n",
        "(то есть изменение одного коэффициента не должно влиять на изменение другого во время одной итерации)."
      ]
    },
    {
      "cell_type": "code",
      "execution_count": null,
      "outputs": [
        {
          "data": {
            "text/plain": "5e-06"
          },
          "execution_count": 22,
          "metadata": {},
          "output_type": "execute_result"
        }
      ],
      "source": [
        "alpha = 5e-6\n",
        "alpha"
      ],
      "metadata": {
        "pycharm": {
          "name": "#%%\n"
        },
        "id": "0Kzsh5dkcSS5",
        "outputId": "715b904c-f9d2-480d-f753-2098c30e30ee"
      }
    },
    {
      "cell_type": "code",
      "execution_count": null,
      "outputs": [
        {
          "name": "stdout",
          "output_type": "stream",
          "text": [
            "B0=0.10699660000000001, B1=0.8975390000000001, mse=399736.8945969929\n",
            "B0=319.2611919366344, B1=3.53997708826565, mse=10428.613732861277\n",
            "B0=409.0357653850931, B1=2.8791965360660576, mse=6783.672985320853\n",
            "B0=434.291275085185, B1=2.693304818571127, mse=6495.206045311317\n",
            "B0=441.39619071675355, B1=2.6410094982591366, mse=6472.376270771214\n",
            "B0=443.39495560929134, B1=2.6262977049453364, mse=6470.569482771402\n",
            "B0=443.95725096967476, B1=2.622158962487855, mse=6470.42649043171\n"
          ]
        }
      ],
      "source": [
        "def mse_(B0, B1, y, x, n):\n",
        "    return np.sum((B0+B1*x-y)**2)/n\n",
        "\n",
        "n = 10\n",
        "x = np.array([35, 45, 190, 200, 40, 70, 54, 150, 120, 110])\n",
        "y = np.array([401, 574, 874, 919, 459, 739, 653, 902, 746, 832])\n",
        "\n",
        "B0 = 0.1\n",
        "B1 = 0.1\n",
        "\n",
        "for i in range(3500000):\n",
        "    y_pred = B0 + B1*x\n",
        "    B0 -= alpha * (2/n) * np.sum(y_pred-y)\n",
        "    B1 -= alpha * (2/n) * np.sum((y_pred-y)*x)\n",
        "    if i % 500000 == 0:\n",
        "        print('B0={B0}, B1={B1}, mse={mse}'.format(B0=B0, B1=B1, mse=mse_(B0, B1, y, x, n)))"
      ],
      "metadata": {
        "pycharm": {
          "name": "#%%\n"
        },
        "id": "fe0mcOG_cSS6",
        "outputId": "974a5941-97f4-44c8-dccb-2c6600ad9b0f"
      }
    }
  ],
  "metadata": {
    "kernelspec": {
      "display_name": "Python 3",
      "language": "python",
      "name": "python3"
    },
    "language_info": {
      "codemirror_mode": {
        "name": "ipython",
        "version": 3
      },
      "file_extension": ".py",
      "mimetype": "text/x-python",
      "name": "python",
      "nbconvert_exporter": "python",
      "pygments_lexer": "ipython3",
      "version": "3.9.0"
    },
    "colab": {
      "provenance": []
    }
  },
  "nbformat": 4,
  "nbformat_minor": 0
}